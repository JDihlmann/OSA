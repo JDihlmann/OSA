{
 "cells": [
  {
   "cell_type": "code",
   "execution_count": 1,
   "metadata": {},
   "outputs": [
    {
     "name": "stdout",
     "output_type": "stream",
     "text": [
      "Requirement already satisfied: trimesh in /Users/jdihlmann/miniforge3/envs/ml/lib/python3.8/site-packages (3.12.9)\n",
      "Requirement already satisfied: numpy in /Users/jdihlmann/miniforge3/envs/ml/lib/python3.8/site-packages (from trimesh) (1.23.1)\n",
      "Note: you may need to restart the kernel to use updated packages.\n",
      "Requirement already satisfied: pyrender in /Users/jdihlmann/miniforge3/envs/ml/lib/python3.8/site-packages (0.1.45)\n",
      "Requirement already satisfied: PyOpenGL==3.1.0 in /Users/jdihlmann/miniforge3/envs/ml/lib/python3.8/site-packages (from pyrender) (3.1.0)\n",
      "Requirement already satisfied: trimesh in /Users/jdihlmann/miniforge3/envs/ml/lib/python3.8/site-packages (from pyrender) (3.12.9)\n",
      "Requirement already satisfied: scipy in /Users/jdihlmann/miniforge3/envs/ml/lib/python3.8/site-packages (from pyrender) (1.8.1)\n",
      "Requirement already satisfied: numpy in /Users/jdihlmann/miniforge3/envs/ml/lib/python3.8/site-packages (from pyrender) (1.23.1)\n",
      "Requirement already satisfied: networkx in /Users/jdihlmann/miniforge3/envs/ml/lib/python3.8/site-packages (from pyrender) (2.8.4)\n",
      "Requirement already satisfied: pyglet>=1.4.10 in /Users/jdihlmann/miniforge3/envs/ml/lib/python3.8/site-packages (from pyrender) (1.5.26)\n",
      "Requirement already satisfied: six in /Users/jdihlmann/miniforge3/envs/ml/lib/python3.8/site-packages (from pyrender) (1.16.0)\n",
      "Requirement already satisfied: freetype-py in /Users/jdihlmann/miniforge3/envs/ml/lib/python3.8/site-packages (from pyrender) (2.3.0)\n",
      "Requirement already satisfied: Pillow in /Users/jdihlmann/miniforge3/envs/ml/lib/python3.8/site-packages (from pyrender) (9.2.0)\n",
      "Requirement already satisfied: imageio in /Users/jdihlmann/miniforge3/envs/ml/lib/python3.8/site-packages (from pyrender) (2.19.3)\n",
      "Note: you may need to restart the kernel to use updated packages.\n"
     ]
    }
   ],
   "source": [
    "# Jupyter notebook install numpy and tensorflow on virtual machine\n",
    "%pip install trimesh\n",
    "%pip install pyrender\n",
    "%pip install tqdm\n",
    "%pip install tensorflow-probability"
   ]
  },
  {
   "cell_type": "code",
   "execution_count": null,
   "metadata": {},
   "outputs": [],
   "source": [
    "import os\n",
    "import sys\n",
    "\n",
    "module_path = os.path.abspath(os.path.join('..'))\n",
    "if module_path not in sys.path:\n",
    "    sys.path.append(module_path)\n",
    "\n",
    "from dataset.loader.avatarDatasetLoader import AvatarDatasetLoader\n",
    "from dataset.loader.imageDatasetLoader import ImageDatasetLoader\n",
    "from network.network import Network\n",
    "\n",
    "# Load Datasets\n",
    "image_dataset = ImageDatasetLoader(batch_size=8)\n",
    "image_dataset.load_data()\n",
    "\n",
    "position_dataset = AvatarDatasetLoader()\n",
    "position_dataset.load_data()\n",
    "\n",
    "# Create Network \n",
    "network = Network(image_dataset, position_dataset)\n",
    "\n",
    "network.train(epoch_count=100)"
   ]
  }
 ],
 "metadata": {
  "kernelspec": {
   "display_name": "Python 3.8.10 ('ml')",
   "language": "python",
   "name": "python3"
  },
  "language_info": {
   "codemirror_mode": {
    "name": "ipython",
    "version": 3
   },
   "file_extension": ".py",
   "mimetype": "text/x-python",
   "name": "python",
   "nbconvert_exporter": "python",
   "pygments_lexer": "ipython3",
   "version": "3.8.10"
  },
  "orig_nbformat": 4,
  "vscode": {
   "interpreter": {
    "hash": "f39b470e1f6d2cb98b68d02178105c14355d8faf0c0edc7f3ed1052615311801"
   }
  }
 },
 "nbformat": 4,
 "nbformat_minor": 2
}
